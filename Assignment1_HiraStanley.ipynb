{
 "cells": [
  {
   "cell_type": "markdown",
   "id": "54b94138-809a-4a03-b6a9-59ab00e037b1",
   "metadata": {},
   "source": [
    "# Scrape Headlines"
   ]
  },
  {
   "cell_type": "code",
   "execution_count": 20,
   "id": "455c8aca-32e3-469b-9faf-06dd2503b9e2",
   "metadata": {},
   "outputs": [],
   "source": [
    "# Imports\n",
    "\n",
    "from bs4 import BeautifulSoup\n",
    "import requests"
   ]
  },
  {
   "cell_type": "code",
   "execution_count": 2,
   "id": "449eb6ae-88fe-40a8-bdb0-38aeb5fb1379",
   "metadata": {},
   "outputs": [],
   "source": [
    "# Helper Function\n",
    "\n",
    "def get_text(html_element):\n",
    "    title_and_summary_tag = html_element.find_all('p')\n",
    "\n",
    "    if len(title_and_summary_tag) == 0: return None\n",
    "    \n",
    "    if len(title_and_summary_tag) < 2: # This function is not very robust :(\n",
    "        return title_and_summary_tag[0].text\n",
    "        \n",
    "    title   = title_and_summary_tag[0].text\n",
    "    summary = title_and_summary_tag[1].text\n",
    "    \n",
    "    title_and_summary = title + \". \" + summary\n",
    "    title_and_summary\n",
    "\n",
    "    return title_and_summary"
   ]
  },
  {
   "cell_type": "code",
   "execution_count": 3,
   "id": "6235fa21-89a4-45f0-a8a6-3692128ba72c",
   "metadata": {},
   "outputs": [
    {
     "data": {
      "text/plain": [
       "['Gov. JB Pritzker’s running mate is a fellow Chicagoan, but says he will ‘represent all of Illinois’',\n",
       " 'It’s been 30 years since the Grateful Dead’s final concerts at Soldier Field in Chicago: Their top 10 Chicago shows',\n",
       " 'NASCAR Chicago Street Race puts city — in a seemingly endless loop through the Loop —\\xa0back on national stage',\n",
       " 'Fireworks 2025: All the Fourth of July shows in the Chicago area',\n",
       " 'Asking-Eric']"
      ]
     },
     "execution_count": 3,
     "metadata": {},
     "output_type": "execute_result"
    }
   ],
   "source": [
    "# Chicago\n",
    "\n",
    "# Request from Chicago Tribune\n",
    "response = requests.get('https://www.chicagotribune.com/')\n",
    "\n",
    "# Get HTML from response\n",
    "html = BeautifulSoup(response.text)\n",
    "\n",
    "# Find all article titles in HTML\n",
    "headlines = [headline['title'] for headline in html.find_all(class_=\"article-title\")]\n",
    "\n",
    "# Print\n",
    "headlines[:5]"
   ]
  },
  {
   "cell_type": "code",
   "execution_count": 4,
   "id": "f63c8639-c156-47f4-a35f-13288b8c323c",
   "metadata": {},
   "outputs": [
    {
     "data": {
      "text/plain": [
       "['House Passes Sweeping Bill to Fulfill Trump’s Domestic Agenda',\n",
       " None,\n",
       " 'LIVE. After Razor-Thin Vote, Measure Goes to President for His Signature',\n",
       " 'Needed to win. Needed to win',\n",
       " 'Jeffries, Breaking Record in Hourslong Speech, Has His Moment. 3 min read']"
      ]
     },
     "execution_count": 4,
     "metadata": {},
     "output_type": "execute_result"
    }
   ],
   "source": [
    "# NY Times\n",
    "\n",
    "# Request from Chicago Tribune\n",
    "response = requests.get('https://www.nytimes.com/')\n",
    "\n",
    "# Get HTML from response\n",
    "html = BeautifulSoup(response.text)\n",
    "\n",
    "# Find all article titles in HTML\n",
    "headlines = [get_text(headline) for headline in html.find_all(class_=\"story-wrapper\")]\n",
    "\n",
    "# Print\n",
    "headlines[:5]"
   ]
  },
  {
   "cell_type": "code",
   "execution_count": 5,
   "id": "e318d94f-5b91-47f3-91eb-b810ee6108d3",
   "metadata": {},
   "outputs": [
    {
     "data": {
      "text/plain": [
       "[]"
      ]
     },
     "execution_count": 5,
     "metadata": {},
     "output_type": "execute_result"
    }
   ],
   "source": [
    "# LA Times\n",
    "\n",
    "# Request from LA Times\n",
    "response = requests.get('https://www.latimes.com/')\n",
    "\n",
    "# Get HTML from response\n",
    "html = BeautifulSoup(response.text, 'html.parser')\n",
    "\n",
    "# Find all article titles in HTML\n",
    "headlines = [headline['aria-label'].strip() for headline in html.find_all('a', class_='link promo-placeholder') if 'aria-label' in headline.attrs]\n",
    "\n",
    "# Print top 5 headlines\n",
    "headlines[:5]"
   ]
  },
  {
   "cell_type": "code",
   "execution_count": 6,
   "id": "0f95fb96-734d-4e8d-99f7-30326a9bfa3b",
   "metadata": {},
   "outputs": [
    {
     "name": "stdout",
     "output_type": "stream",
     "text": [
      "Access to this site has been denied.\n"
     ]
    }
   ],
   "source": [
    "response = requests.get('https://www.latimes.com/')\n",
    "print(response.text[:500])"
   ]
  },
  {
   "cell_type": "markdown",
   "id": "778cedfd-3323-4fbe-b1ec-022d7a4134c2",
   "metadata": {},
   "source": [
    "# Write headlines to a .txt file"
   ]
  },
  {
   "cell_type": "code",
   "execution_count": 7,
   "id": "2e78ad70-5284-40f2-a29b-fa4175dd36d2",
   "metadata": {},
   "outputs": [],
   "source": [
    "# Imports\n",
    "\n",
    "import datetime"
   ]
  },
  {
   "cell_type": "code",
   "execution_count": 8,
   "id": "dbfc59c4-1e52-4fc2-85ea-3fadec883a3c",
   "metadata": {},
   "outputs": [],
   "source": [
    "# Helper functions\n",
    "\n",
    "TODAY = datetime.datetime.today().strftime('%Y-%m-%d')"
   ]
  },
  {
   "cell_type": "code",
   "execution_count": 9,
   "id": "2ef3d704-9bae-4a3c-b4e6-3fb482377c14",
   "metadata": {},
   "outputs": [
    {
     "data": {
      "text/plain": [
       "'headlines_chicagotribune_2025-07-03.txt'"
      ]
     },
     "execution_count": 9,
     "metadata": {},
     "output_type": "execute_result"
    }
   ],
   "source": [
    "filename = f\"headlines_chicagotribune_{TODAY}.txt\"\n",
    "filename"
   ]
  },
  {
   "cell_type": "code",
   "execution_count": 10,
   "id": "8eb083b0-e27d-42ed-9562-2c60ff64ad13",
   "metadata": {},
   "outputs": [
    {
     "data": {
      "text/plain": [
       "'headlines_nyt_2025-07-03.txt'"
      ]
     },
     "execution_count": 10,
     "metadata": {},
     "output_type": "execute_result"
    }
   ],
   "source": [
    "filename = f\"headlines_nyt_{TODAY}.txt\"\n",
    "filename"
   ]
  },
  {
   "cell_type": "code",
   "execution_count": 11,
   "id": "b8abcc70-dcd4-4923-9f75-041903c3a813",
   "metadata": {},
   "outputs": [],
   "source": [
    "with open(filename, 'w', encoding='utf-8') as output_file:\n",
    "    for headline in headlines:\n",
    "        if headline is None: continue\n",
    "        output_file.write(headline + '\\n')"
   ]
  },
  {
   "cell_type": "markdown",
   "id": "3214b83f-850b-4fa9-838e-8d74fb224237",
   "metadata": {},
   "source": [
    "# Run Model\n",
    "* Load Trained Model\n",
    "* Read .txt headlines\n",
    "* Encode into .npy file\n",
    "* Predict Scores\n",
    "* Output Results"
   ]
  },
  {
   "cell_type": "code",
   "execution_count": 12,
   "id": "b232b5e4-1b24-4cf3-811e-f62cdb391d0b",
   "metadata": {},
   "outputs": [],
   "source": [
    "# Imports\n",
    "\n",
    "import numpy as np\n",
    "import joblib\n",
    "from sentence_transformers import SentenceTransformer"
   ]
  },
  {
   "cell_type": "code",
   "execution_count": 13,
   "id": "775666d1-f289-420b-8bb5-2d18666c8848",
   "metadata": {},
   "outputs": [],
   "source": [
    "clf = joblib.load('svm.joblib')\n",
    "model = SentenceTransformer(\"all-MiniLM-L6-v2\")"
   ]
  },
  {
   "cell_type": "code",
   "execution_count": 14,
   "id": "b209cd7b-3944-49e0-ba7c-63a7fb321671",
   "metadata": {},
   "outputs": [
    {
     "data": {
      "text/plain": [
       "(384,)"
      ]
     },
     "execution_count": 14,
     "metadata": {},
     "output_type": "execute_result"
    }
   ],
   "source": [
    "# Test\n",
    "\n",
    "embedding = model.encode(\"Everything is terrible\")\n",
    "embedding.shape"
   ]
  },
  {
   "cell_type": "code",
   "execution_count": 15,
   "id": "7b4d773a-1786-4403-a6be-3f7e81f01e12",
   "metadata": {},
   "outputs": [
    {
     "data": {
      "text/plain": [
       "array(['Neutral'], dtype=object)"
      ]
     },
     "execution_count": 15,
     "metadata": {},
     "output_type": "execute_result"
    }
   ],
   "source": [
    "# Test \n",
    "\n",
    "clf.predict([embedding])"
   ]
  },
  {
   "cell_type": "code",
   "execution_count": 16,
   "id": "ac5b30c8-2476-4a2c-b0f8-9ef379505e43",
   "metadata": {},
   "outputs": [
    {
     "name": "stdout",
     "output_type": "stream",
     "text": [
      "['IHSA state football playoffs: See who won the championship games, from 8A to 1A\\n', 'Chicagoâ€™s winter parking ban goes into effect Sunday. Hereâ€™s what to know, snow or no snow.\\n', 'Matt Eberflusâ€™ Chicago Bears timeline: 32 losses, multiple coach firings and too many late-game missteps\\n', '10 best books of 2024: The surprising reads that stuck\\n', 'Asking-Eric\\n']\n"
     ]
    }
   ],
   "source": [
    "# Test\n",
    "\n",
    "with open('headlines_chicagotribune_2024-12-01.txt', 'r') as file:\n",
    "    headlines = file.readlines()\n",
    "    print(headlines[:5])"
   ]
  },
  {
   "cell_type": "code",
   "execution_count": 17,
   "id": "4946842a-3f00-445d-a0d9-5d67b3d2520b",
   "metadata": {},
   "outputs": [
    {
     "name": "stdout",
     "output_type": "stream",
     "text": [
      "Optimistic, IHSA state football playoffs: See who won the championship games, from 8A to 1A\n",
      "Neutral, Chicagoâ€™s winter parking ban goes into effect Sunday. Hereâ€™s what to know, snow or no snow.\n",
      "Neutral, Matt Eberflusâ€™ Chicago Bears timeline: 32 losses, multiple coach firings and too many late-game missteps\n",
      "Neutral, 10 best books of 2024: The surprising reads that stuck\n",
      "Pessimistic, Asking-Eric\n",
      "Pessimistic, Today-in-History\n",
      "Optimistic, Many Illinois health systems provide gender-affirming care. What happens when Donald Trump becomes president?\n",
      "Pessimistic, â€˜Heâ€™s gonna benefit from being with the Speakerâ€™: Madigan trial offers inside view of private dealmaking\n",
      "Optimistic, US Senate inquiry into Chicagoâ€™s housing of migrants at airports likely to heat up after Republican election wins\n",
      "Pessimistic, The Nation of Islam flourished in Chicago after Elijah Muhammad took over from the movementâ€™s founder\n",
      "Neutral, Running the ball. Catching the ball. Drew MacPherson does it all as Loyola wins state title. â€˜Heâ€™s one of a kind.â€™\n",
      "Optimistic, West Side man charged in fatal shooting of Oak Park police officer\n",
      "Neutral, Despite large influx, migrant shelters in Chicago see few DCFS investigations\n",
      "Pessimistic, Stellantis CEO Carlos Tavares resigns as carmaker continues to struggle with slumping sales\n",
      "Optimistic, Canadaâ€™s ambassador to the US says Justin Trudeauâ€™s dinner with Donald Trump key to getting tariffs removed\n",
      "Optimistic, Mikaela Shiffrin suffers deep abdominal puncture wound in ski crash while chasing 100th World Cup win\n",
      "Optimistic, UN halts aid shipments through Gazaâ€™s main crossing after looting. It blames the crisis on Israel\n",
      "Pessimistic, Recess appointments could put Donald Trump at odds with conservatives on the Supreme Court\n",
      "Neutral, Editorial: Regulators should say no â€” again â€” to Peoples Gasâ€™ push to resume its unaffordable pipe rebuild\n",
      "Pessimistic, Edward Keegan: Are Chicagoâ€™s latest big projects too big to succeed?\n",
      "Neutral, Clarence Page: Democrats have work to do to reclaim the mantle of change\n",
      "Pessimistic, Faith leaders: Chicago must invest in preventing the loss of life to gun violence\n",
      "Pessimistic, Officials: South Shore Lineâ€™s on-time performance improving but not enough\n",
      "Optimistic, Southwest Airlines says it is ending cabin service earlier to reduce chance of injury\n",
      "Neutral, Vendors hawk their wares at Bronzeville Small Business Saturday event\n",
      "Neutral, Shoppers get in holiday spirit on Mag Mile and State Street on Black Friday\n",
      "Neutral, â€˜Moana 2â€™ sails to a record $221 million opening as Hollywood celebrates a moviegoing feast\n",
      "Pessimistic, Black cowboys and cowgirls carry on traditions brought to northwest Indiana, Greater Chicago from the South\n",
      "Pessimistic, Windy City Skaters build community and explore Chicago on wheels: â€˜The whole world is your skate rinkâ€™\n",
      "Neutral, From T-shirts to thongs, how indie film merchandise became a hot commodity\n",
      "Neutral, Column: Wildly successful Big Ten regular season ends with a shocker in â€˜The Gameâ€™ and frozen tundra at Wrigley Field\n",
      "Neutral, Matt Eberflusâ€™ Chicago Bears timeline: 32 losses, multiple coach firings and too many late-game missteps\n",
      "Neutral, Column: Leave it to the Chicago Bears to botch a coach firing even your Aunt Martha could see coming\n",
      "Pessimistic, Zach LaVine is making history â€” and anchoring the Chicago Bulls offense â€” from behind the arc\n",
      "Neutral, Photos: Chicago Bears fire coach Matt Eberflus\n",
      "Neutral, Photos: The 90th Chicago Thanksgiving Parade\n",
      "Optimistic, Week 13 photos: Detroit Lions 23, Chicago Bears 20 in Detroit on Thanksgiving\n",
      "Neutral, Photos: Chicagoâ€™s 2024 Christmas tree lights up in Millennium Park\n",
      "Neutral, Photos: Meet the winner of the Jeremy Allen White lookalike competition in Chicago\n",
      "Neutral, Photos: Hubbard Street Dance Companyâ€™s Fall series includes Fosse-Verdon gem\n",
      "Neutral, Photos: Windy City Curling\n",
      "Neutral, Photos: 2024 Veterans Day observed at Rosehill Cemetery\n",
      "Neutral, Photos: Chicagoland votes in the 2024 general election\n",
      "Neutral, Photos: The presidential race to the White House\n",
      "Pessimistic, Photos: Cook County stateâ€™s attorneyâ€™s race\n",
      "Neutral, Photos: Lane Techâ€™s quest to capture the sportâ€™s first IHSA girls flag football title\n",
      "Neutral, Wisconsin Democratic leader Ben Wikler enters the race to lead the national party\n",
      "Neutral, A landmark climate change case will open at the top UN court as island nations fear rising seas\n",
      "Pessimistic, Donald Trump says heâ€™ll nominate Kash Patel as FBI director to remake the agency. Hereâ€™s what happens next\n",
      "Optimistic, DACA recipients worry their protection from deportation wonâ€™t last another Trump term\n",
      "Optimistic, High school students take to the skies through Governors State program\n",
      "Optimistic, What does the Trump administration have in store for Chicago families? Many are concerned about child care costs, paid family leave.\n",
      "Neutral, Northeastern Illinois University celebrates new leadership and energy\n",
      "Optimistic, Trump promised mass deportations. Educators worry fear will keep immigrantsâ€™ kids from school\n",
      "Neutral, Homeless people and advocates brace for Peoriaâ€™s new public sleeping ban\n",
      "Optimistic, We donâ€™t know whatâ€™s at the bottom of the Great Lakes. Climate change demands we find out.\n",
      "Optimistic, Using recycled bottles, community to build worldâ€™s tallest glass tree at Yerkes Observatory\n",
      "Optimistic, Beaver survey aims to show the urban benefits of Chicagoâ€™s â€˜ecosystem engineersâ€™\n",
      "Optimistic, Illinoisâ€™ Third House\n",
      "Neutral, Purple Heart returned to daughter of WWII veteran, a Marine who helped take Saipan\n",
      "Optimistic, â€˜A piece of him is coming backâ€™\n",
      "Neutral, Our culture of corruption: Read the series on Illinoisâ€™ notorious political legacy\n",
      "Neutral, Cicero man charged with murder in West Garfield Park Thanksgiving shooting\n",
      "Optimistic, Portage High School secretary killed in Friday night shooting after â€˜domestic disturbanceâ€™\n",
      "Optimistic, State police: $40M in cocaine seized near downstate Quad Cities\n",
      "Optimistic, 3 women stabbed after Friday evening dispute on South Side: CPD\n",
      "Pessimistic, Laid back atmosphere, unique offerings on display in Hobart for Small Business Saturday\n",
      "Neutral, Santa comes to New Lenox Commons, and with him the crowds\n",
      "Neutral, Electric Christmas Parade in St. Charles offers bright start to the holidays\n",
      "Pessimistic, Owners and customers say small businesses vital to the Fox Valley economy\n",
      "Neutral, Today in Sports History: Wayne Gretzky is 1st player in NHL history with 3,000 points\n",
      "Optimistic, Today in History: Rosa Parks refuses to give up bus seat\n",
      "Neutral, Today in Sports History: Michael Jordan becomes the 10th player in NBA history to reach 25,000 points\n",
      "Pessimistic, Today in History: WTO protesters and police clash in Seattle\n",
      "Pessimistic, Combining their passion for cooking and the Bears, these Chicago chefs take tailgating to a new level\n",
      "Neutral, Restaurant review: Sanders BBQ Supply Co. brings its new school barbecue to the South Side of Chicago\n",
      "Neutral, Thanksgiving 2024: 70 restaurant specials across Chicagoland, from buffets and dinners out to at-home meal kits\n",
      "Neutral, â€˜Very thankfulâ€™: South Side parish helps feed 1,000 families for Thanksgiving\n",
      "Pessimistic, Asking Eric: Our neighborsâ€™ marijuana usage is unbearable\n",
      "Pessimistic, Asking Eric: Husband binged show without me\n",
      "Optimistic, Asking Eric: Mother worries about care for her disabled son after sheâ€™s gone\n",
      "Optimistic, Asking Eric: Renter doesnâ€™t want to pay for utilities she didnâ€™t use\n",
      "Optimistic, Black Friday laptop deals are still live â€” donâ€™t miss out\n",
      "Optimistic, The best Black Friday TV deals still available\n",
      "Optimistic, The best Black Friday deals are already live\n",
      "Optimistic, Black Friday beauty and wellness deals that are worth the hype\n"
     ]
    }
   ],
   "source": [
    "# Testing on existing file\n",
    "\n",
    "# Load the embeddings\n",
    "embeddings = np.load('headlines_chicagotribune_2024-12-01.npy')\n",
    "\n",
    "# Load the original headlines (needed to print alongside predictions)\n",
    "with open('headlines_chicagotribune_2024-12-01.txt', 'r') as file:\n",
    "    headlines = [line.strip() for line in file.readlines()]\n",
    "\n",
    "# Run predictions\n",
    "predictions = clf.predict(embeddings)\n",
    "\n",
    "# Print predictions with corresponding headlines\n",
    "for pred, headline in zip(predictions, headlines):\n",
    "    print(f\"{pred}, {headline}\")"
   ]
  },
  {
   "cell_type": "markdown",
   "id": "525f8925-54fa-44f0-adeb-c60876b36e4e",
   "metadata": {},
   "source": [
    "# Get versions for requirements.txt file"
   ]
  },
  {
   "cell_type": "code",
   "execution_count": 18,
   "id": "d4d0aa41-43ab-4548-91d8-246bffd5a632",
   "metadata": {},
   "outputs": [
    {
     "name": "stdout",
     "output_type": "stream",
     "text": [
      "numpy: 1.26.4\n",
      "joblib: 1.5.1\n",
      "sentence-transformers: 4.1.0\n",
      "scikit-learn: 1.5.1\n"
     ]
    }
   ],
   "source": [
    "import numpy\n",
    "import joblib\n",
    "import sentence_transformers\n",
    "import sklearn\n",
    "\n",
    "print(\"numpy:\", numpy.__version__)\n",
    "print(\"joblib:\", joblib.__version__)\n",
    "print(\"sentence-transformers:\", sentence_transformers.__version__)\n",
    "print(\"scikit-learn:\", sklearn.__version__)"
   ]
  },
  {
   "cell_type": "code",
   "execution_count": 22,
   "id": "e601a19c-1b76-4033-8a3f-71d83eb28df9",
   "metadata": {},
   "outputs": [
    {
     "name": "stdout",
     "output_type": "stream",
     "text": [
      "beautifulsoup4: 4.12.3\n",
      "requests: 2.32.3\n"
     ]
    }
   ],
   "source": [
    "import bs4\n",
    "import requests\n",
    "\n",
    "print(\"beautifulsoup4:\", bs4.__version__)\n",
    "print(\"requests:\", requests.__version__)"
   ]
  }
 ],
 "metadata": {
  "kernelspec": {
   "display_name": "Python 3 (ipykernel)",
   "language": "python",
   "name": "python3"
  },
  "language_info": {
   "codemirror_mode": {
    "name": "ipython",
    "version": 3
   },
   "file_extension": ".py",
   "mimetype": "text/x-python",
   "name": "python",
   "nbconvert_exporter": "python",
   "pygments_lexer": "ipython3",
   "version": "3.12.7"
  }
 },
 "nbformat": 4,
 "nbformat_minor": 5
}
